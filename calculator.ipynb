{
 "cells": [
  {
   "cell_type": "code",
   "execution_count": 1,
   "metadata": {},
   "outputs": [],
   "source": [
    "import numpy as np\n",
    "from tqdm import tqdm\n",
    "from copy import deepcopy"
   ]
  },
  {
   "cell_type": "code",
   "execution_count": 2,
   "metadata": {},
   "outputs": [],
   "source": [
    "# user defined parameters\n",
    "\n",
    "pool = 6 # The pool the armor to be augmented belongs to\n",
    "init_budget = 10 # The initial budget of the armor piece\n",
    "\n",
    "rng_sd = 0 # Seed for rng\n",
    "rng = np.random.default_rng(rng_sd)\n",
    "\n",
    "base_armor = {'Defense': 0, 'Fire res': 0, 'Water res': 0, 'Thunder res': 0,\n",
    "              'Ice res': 0, 'Dragon res': 0, 'Slot': [4, 0, 0],\n",
    "              'Skill': {'Weakness Exploit': 2, 'Offensive Guard': 2, 'Flinch Free': 3}} # Ingot Greaves X\n",
    "target_armor = {'Slot': [4, 2, 1], 'Skill': {'Weakness Exploit': 2, 'Offensive Guard': 2}}"
   ]
  },
  {
   "cell_type": "code",
   "execution_count": 3,
   "metadata": {},
   "outputs": [],
   "source": [
    "data = []\n",
    "with open(f'./data/aug_val_pool_{pool}.csv', 'r') as f:\n",
    "    header = f.readline()\n",
    "    line = f.readline()\n",
    "    while line:\n",
    "        entries = line.split(',')\n",
    "        data.append((entries[0], int(entries[1]), int(entries[2]), int(entries[3])))\n",
    "        line = f.readline()"
   ]
  },
  {
   "cell_type": "markdown",
   "metadata": {},
   "source": [
    "1. Takes the first defense aug in aug pool for the 7th augment.\n",
    "2. Doesn't take any defense aug when the remaining budget doesn't match the cost of any single defense aug."
   ]
  },
  {
   "cell_type": "code",
   "execution_count": 4,
   "metadata": {},
   "outputs": [],
   "source": [
    "def get_qurio_aug(init_budget):\n",
    "    def allowed_upgrade(roll, upgrade):\n",
    "        if roll == 0:\n",
    "            # first roll must be defense\n",
    "            if upgrade[:-1] == 'Defense':\n",
    "                return True\n",
    "            else:\n",
    "                return False\n",
    "        elif roll == 1:\n",
    "            # second roll must be skill\n",
    "            if upgrade[:-1] == 'Skill':\n",
    "                return True\n",
    "            else:\n",
    "                return False\n",
    "        else:\n",
    "            return True\n",
    "\n",
    "    def clean_up_def():\n",
    "        # drop all defense augments if they sum up to 0\n",
    "        # return True if augs have been cleaned up, else return False\n",
    "        def_ind = []\n",
    "        total_def = 0\n",
    "        for ind, (upgrade, lv, cost) in enumerate(total_augs):\n",
    "            if upgrade[:-1] == 'Defense':\n",
    "                def_ind.append(ind)\n",
    "                total_def += lv\n",
    "        if total_def == 0 and len(def_ind) > 0:\n",
    "            for ind in def_ind[::-1]:\n",
    "                del total_augs[ind]\n",
    "            return True\n",
    "        else:\n",
    "            return False\n",
    "\n",
    "    def remaining_budget():\n",
    "        return init_budget - sum([cost for upgrade, lv, cost in total_augs])\n",
    "\n",
    "    total_augs = []\n",
    "    for roll in range(50):\n",
    "        if len(total_augs) == 6:\n",
    "            # take a defense boost according to the remaining budget\n",
    "            for upgrade, lv, prob, cost in data:\n",
    "                if upgrade[:-1] == 'Defense' and cost == remaining_budget():\n",
    "                    total_augs.append((upgrade, lv, cost))\n",
    "            if clean_up_def():\n",
    "                continue\n",
    "            else:\n",
    "                break\n",
    "\n",
    "        allowed_augs = []\n",
    "        for upgrade, lv, prob, cost in data:\n",
    "            if allowed_upgrade(roll, upgrade):\n",
    "                allowed_augs.extend([(upgrade, lv, cost)] * prob)\n",
    "        chosen_ind = rng.integers(0, high=len(allowed_augs))\n",
    "        chosen_upgrade, chosen_lv, chosen_cost = allowed_augs[chosen_ind]\n",
    "        if chosen_cost > remaining_budget():\n",
    "            continue\n",
    "        total_augs.append((chosen_upgrade, chosen_lv, chosen_cost))\n",
    "        if clean_up_def():\n",
    "            continue\n",
    "\n",
    "        if remaining_budget() == 0:\n",
    "            break\n",
    "\n",
    "    return total_augs"
   ]
  },
  {
   "cell_type": "code",
   "execution_count": 5,
   "metadata": {},
   "outputs": [],
   "source": [
    "skills_dict = {(3*i+3): [] for i in range(5)}\n",
    "with open(\"./data/skill_cost.csv\", 'r') as f:\n",
    "    lines = f.readlines()\n",
    "    for line in lines[1:]:\n",
    "        entries = line.strip().split(',')\n",
    "        cost = int(entries[1])\n",
    "        name = entries[2]\n",
    "        skills_dict[cost].append(name)"
   ]
  },
  {
   "cell_type": "markdown",
   "metadata": {},
   "source": [
    "1. Each skill has the same chance of being chosen for `'Skill-'`, regardless of their points.\n",
    "2. Prviously augmented skills can be chosen for `'Skill-'`."
   ]
  },
  {
   "cell_type": "code",
   "execution_count": 6,
   "metadata": {},
   "outputs": [],
   "source": [
    "def get_augmented_armor(base_armor):\n",
    "    # get augmented armor based on the base armor\n",
    "    \n",
    "    armor = deepcopy(base_armor)\n",
    "    qurio_augs = get_qurio_aug(init_budget)\n",
    "    \n",
    "    for upgrade, level, cost in qurio_augs:\n",
    "        if upgrade == 'Skill+':\n",
    "            chosen_ind = rng.integers(0, high=len(skills_dict[cost]))\n",
    "            chosen_skill = skills_dict[cost][chosen_ind]\n",
    "            if chosen_skill in armor['Skill']:\n",
    "                armor['Skill'][chosen_skill] += 1\n",
    "            else:\n",
    "                armor['Skill'][chosen_skill] = 1\n",
    "        elif upgrade == 'Skill-':\n",
    "            chosen_ind = rng.integers(0, high=len(armor['Skill']))\n",
    "            chosen_skill = list(armor['Skill'].keys())[chosen_ind]\n",
    "            if armor['Skill'][chosen_skill] == 1:\n",
    "                del armor['Skill'][chosen_skill]\n",
    "            else:\n",
    "                armor['Skill'][chosen_skill] -= 1\n",
    "        elif upgrade == 'Slot+':\n",
    "            for _ in range(level):\n",
    "                if 0 in armor['Slot']:\n",
    "                    armor['Slot'][armor['Slot'].index(0)] = 1\n",
    "                else:\n",
    "                    for ind in range(3):\n",
    "                        if armor['Slot'][ind] < 4:\n",
    "                            armor['Slot'][ind] += 1\n",
    "                            break\n",
    "        else:\n",
    "            armor[upgrade[:-1]] += level\n",
    "    \n",
    "    return armor"
   ]
  },
  {
   "cell_type": "code",
   "execution_count": 7,
   "metadata": {},
   "outputs": [],
   "source": [
    "def check_armor(armor, target_armor):\n",
    "    # check if the augmented armor meets target requirement\n",
    "\n",
    "    output = True\n",
    "    for key, val in target_armor.items():\n",
    "        if not output:\n",
    "            break\n",
    "        if key == 'Slot':\n",
    "            for x, y in zip(armor[key], val):\n",
    "                if x < y:\n",
    "                    output = False\n",
    "        elif key == 'Skill':\n",
    "            for skill, level in val.items():\n",
    "                if skill not in armor[key]:\n",
    "                    output = False\n",
    "                elif armor[key][skill] < level:\n",
    "                    output = False\n",
    "        else:\n",
    "            if armor[key] < val:\n",
    "                output = False\n",
    "                \n",
    "    return output"
   ]
  },
  {
   "cell_type": "code",
   "execution_count": 8,
   "metadata": {},
   "outputs": [
    {
     "name": "stderr",
     "output_type": "stream",
     "text": [
      "100%|██████████| 100000/100000 [00:18<00:00, 5415.52it/s]"
     ]
    },
    {
     "name": "stdout",
     "output_type": "stream",
     "text": [
      "0.00109\n"
     ]
    },
    {
     "name": "stderr",
     "output_type": "stream",
     "text": [
      "\n"
     ]
    }
   ],
   "source": [
    "# Monte Carlo\n",
    "num_rep = 100000\n",
    "result = []\n",
    "\n",
    "for _ in tqdm(range(num_rep)):\n",
    "    result.append(check_armor(get_augmented_armor(base_armor), target_armor))\n",
    "\n",
    "prob = sum(result) / len(result)\n",
    "print(prob)"
   ]
  },
  {
   "cell_type": "code",
   "execution_count": 9,
   "metadata": {},
   "outputs": [
    {
     "data": {
      "text/plain": [
       "0.19597016027488257"
      ]
     },
     "execution_count": 9,
     "metadata": {},
     "output_type": "execute_result"
    }
   ],
   "source": [
    "total_rolls = 200\n",
    "1 - (1 - prob)**total_rolls # chance of getting one in total_rolls consecutive rolls"
   ]
  },
  {
   "cell_type": "code",
   "execution_count": 10,
   "metadata": {},
   "outputs": [
    {
     "data": {
      "text/plain": [
       "1475.7436782909192"
      ]
     },
     "execution_count": 10,
     "metadata": {},
     "output_type": "execute_result"
    }
   ],
   "source": [
    "conf = 0.8 # how unlucky you feel: from very lucky to very unlucky is 0 to 1\n",
    "np.log(1-conf) / np.log(1-prob) # max num of rolls to get the target armor in conf probability"
   ]
  },
  {
   "cell_type": "code",
   "execution_count": null,
   "metadata": {},
   "outputs": [],
   "source": []
  }
 ],
 "metadata": {
  "kernelspec": {
   "display_name": "Python 3.10.7 64-bit",
   "language": "python",
   "name": "python3"
  },
  "language_info": {
   "codemirror_mode": {
    "name": "ipython",
    "version": 3
   },
   "file_extension": ".py",
   "mimetype": "text/x-python",
   "name": "python",
   "nbconvert_exporter": "python",
   "pygments_lexer": "ipython3",
   "version": "3.10.7"
  },
  "orig_nbformat": 4,
  "vscode": {
   "interpreter": {
    "hash": "1d2aaa69243c1aeee9ed5c0bf4a734bc8a30dc49622e137fa272950e9b54015b"
   }
  }
 },
 "nbformat": 4,
 "nbformat_minor": 2
}
