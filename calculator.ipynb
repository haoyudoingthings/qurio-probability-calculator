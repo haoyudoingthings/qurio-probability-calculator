{
 "cells": [
  {
   "cell_type": "code",
   "execution_count": 1,
   "metadata": {},
   "outputs": [],
   "source": [
    "import numpy as np\n",
    "from tqdm import tqdm"
   ]
  },
  {
   "cell_type": "code",
   "execution_count": 2,
   "metadata": {},
   "outputs": [],
   "source": [
    "# user defined parameters\n",
    "pool = 2 # The pool the armor to be augmented belongs to\n",
    "init_budget = 18 # The initial budget of the armor piece\n",
    "\n",
    "rng_sd = 0 # Seed for rng\n",
    "rng = np.random.default_rng(rng_sd)"
   ]
  },
  {
   "cell_type": "code",
   "execution_count": 3,
   "metadata": {},
   "outputs": [],
   "source": [
    "data = []\n",
    "with open(f'./data/aug_val_pool_{pool}.csv', 'r') as f:\n",
    "    header = f.readline()\n",
    "    line = f.readline()\n",
    "    while line:\n",
    "        entries = line.split(',')\n",
    "        data.append((entries[0], int(entries[1]), int(entries[2]), int(entries[3])))\n",
    "        line = f.readline()"
   ]
  },
  {
   "cell_type": "code",
   "execution_count": 4,
   "metadata": {},
   "outputs": [],
   "source": [
    "def get_qurio_aug(init_budget):\n",
    "    def allowed_upgrade(roll, upgrade):\n",
    "        if roll == 0:\n",
    "            # first roll must be defense\n",
    "            if upgrade[:-1] == 'Defense':\n",
    "                return True\n",
    "            else:\n",
    "                return False\n",
    "        elif roll == 1:\n",
    "            # second roll must be skill\n",
    "            if upgrade[:-1] == 'Skill':\n",
    "                return True\n",
    "            else:\n",
    "                return False\n",
    "        else:\n",
    "            return True\n",
    "\n",
    "    def clean_up_def():\n",
    "        # drop all defense augments if they sum up to 0\n",
    "        # return True if augs have been cleaned up, else return False\n",
    "        def_ind = []\n",
    "        total_def = 0\n",
    "        for ind, (upgrade, lv, cost) in enumerate(total_augs):\n",
    "            if upgrade[:-1] == 'Defense':\n",
    "                def_ind.append(ind)\n",
    "                total_def += lv\n",
    "        if total_def == 0 and len(def_ind) > 0:\n",
    "            for ind in def_ind[::-1]:\n",
    "                del total_augs[ind]\n",
    "            return True\n",
    "        else:\n",
    "            return False\n",
    "\n",
    "    def remaining_budget():\n",
    "        return init_budget - sum([cost for upgrade, lv, cost in total_augs])\n",
    "\n",
    "    total_augs = []\n",
    "    for roll in range(50):\n",
    "        if len(total_augs) == 6:\n",
    "            for upgrade, lv, prob, cost in data:\n",
    "                if upgrade[:-1] == 'Defense' and cost == remaining_budget():\n",
    "                    total_augs.append((upgrade, lv, cost))\n",
    "            if clean_up_def():\n",
    "                continue\n",
    "            else:\n",
    "                break\n",
    "\n",
    "        allowed_augs = []\n",
    "        for upgrade, lv, prob, cost in data:\n",
    "            if allowed_upgrade(roll, upgrade):\n",
    "                allowed_augs.extend([(upgrade, lv, cost)] * prob)\n",
    "        chosen_ind = rng.integers(0, high=len(allowed_augs))\n",
    "        chosen_upgrade, chosen_lv, chosen_cost = allowed_augs[chosen_ind]\n",
    "        if chosen_cost > remaining_budget():\n",
    "            continue\n",
    "        total_augs.append((chosen_upgrade, chosen_lv, chosen_cost))\n",
    "        if clean_up_def():\n",
    "            continue\n",
    "\n",
    "        if remaining_budget() == 0:\n",
    "            break\n",
    "\n",
    "    return total_augs"
   ]
  },
  {
   "cell_type": "code",
   "execution_count": 5,
   "metadata": {},
   "outputs": [
    {
     "data": {
      "text/plain": [
       "[('Defense-', -6, -3),\n",
       " ('Skill+', 1, 9),\n",
       " ('Water res-', -3, -3),\n",
       " ('Defense+', 22, 15)]"
      ]
     },
     "execution_count": 5,
     "metadata": {},
     "output_type": "execute_result"
    }
   ],
   "source": [
    "get_qurio_aug(init_budget)"
   ]
  },
  {
   "cell_type": "code",
   "execution_count": null,
   "metadata": {},
   "outputs": [],
   "source": []
  }
 ],
 "metadata": {
  "kernelspec": {
   "display_name": "Python 3.10.7 64-bit",
   "language": "python",
   "name": "python3"
  },
  "language_info": {
   "codemirror_mode": {
    "name": "ipython",
    "version": 3
   },
   "file_extension": ".py",
   "mimetype": "text/x-python",
   "name": "python",
   "nbconvert_exporter": "python",
   "pygments_lexer": "ipython3",
   "version": "3.10.7"
  },
  "orig_nbformat": 4,
  "vscode": {
   "interpreter": {
    "hash": "1d2aaa69243c1aeee9ed5c0bf4a734bc8a30dc49622e137fa272950e9b54015b"
   }
  }
 },
 "nbformat": 4,
 "nbformat_minor": 2
}
