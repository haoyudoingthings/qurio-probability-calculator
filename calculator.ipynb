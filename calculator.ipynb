{
 "cells": [
  {
   "cell_type": "code",
   "execution_count": 1,
   "metadata": {},
   "outputs": [],
   "source": [
    "import numpy as np\n",
    "from tqdm import tqdm"
   ]
  },
  {
   "cell_type": "code",
   "execution_count": 2,
   "metadata": {},
   "outputs": [],
   "source": [
    "# user defined parameters\n",
    "pool = 2 # The pool the armor to be augmented belongs to\n",
    "budget = 18 # The initial budget of the armor piece\n",
    "\n",
    "rng_sd = 0 # Seed for rng\n",
    "rng = np.random.default_rng(rng_sd)"
   ]
  },
  {
   "cell_type": "code",
   "execution_count": 3,
   "metadata": {},
   "outputs": [],
   "source": [
    "data = []\n",
    "with open('Qurio_AllAugs.csv', 'r') as f:\n",
    "    header = f.readline()\n",
    "    line = f.readline()\n",
    "    while line:\n",
    "        entries = line.split(',')\n",
    "        if int(entries[0]) != pool:\n",
    "            line = f.readline()\n",
    "            continue\n",
    "        data.append((entries[1], int(entries[2]), int(entries[3]), int(entries[4])))\n",
    "        line = f.readline()"
   ]
  },
  {
   "cell_type": "code",
   "execution_count": 4,
   "metadata": {},
   "outputs": [],
   "source": [
    "def qurio_crafting(budget):\n",
    "    total_augs = []\n",
    "    for _ in range(7):\n",
    "        if budget <= 0:\n",
    "            break\n",
    "        allowed_augs = []\n",
    "        for upgrade, lv, prob, val in data:\n",
    "            if val <= budget:\n",
    "                allowed_augs.extend([(upgrade, lv, val)] * prob)\n",
    "        chosen_ind = rng.integers(0, high=len(allowed_augs))\n",
    "        chosen_upgrade, chosen_lv, chosen_val = allowed_augs[chosen_ind]\n",
    "        total_augs.append((chosen_upgrade, chosen_lv, chosen_val))\n",
    "        budget -= chosen_val\n",
    "    return total_augs"
   ]
  },
  {
   "cell_type": "code",
   "execution_count": 5,
   "metadata": {},
   "outputs": [
    {
     "data": {
      "text/plain": [
       "[('Skill+', 1, 12),\n",
       " ('Ice res-', -2, -2),\n",
       " ('Thunder res+', 2, 2),\n",
       " ('Defense-', -6, -3),\n",
       " ('Defense-', -12, -5),\n",
       " ('Defense+', 2, 1),\n",
       " ('Defense+', 2, 1)]"
      ]
     },
     "execution_count": 5,
     "metadata": {},
     "output_type": "execute_result"
    }
   ],
   "source": [
    "qurio_crafting(budget)"
   ]
  },
  {
   "cell_type": "code",
   "execution_count": null,
   "metadata": {},
   "outputs": [],
   "source": []
  }
 ],
 "metadata": {
  "kernelspec": {
   "display_name": "Python 3.10.7 64-bit",
   "language": "python",
   "name": "python3"
  },
  "language_info": {
   "codemirror_mode": {
    "name": "ipython",
    "version": 3
   },
   "file_extension": ".py",
   "mimetype": "text/x-python",
   "name": "python",
   "nbconvert_exporter": "python",
   "pygments_lexer": "ipython3",
   "version": "3.10.7"
  },
  "orig_nbformat": 4,
  "vscode": {
   "interpreter": {
    "hash": "1d2aaa69243c1aeee9ed5c0bf4a734bc8a30dc49622e137fa272950e9b54015b"
   }
  }
 },
 "nbformat": 4,
 "nbformat_minor": 2
}
